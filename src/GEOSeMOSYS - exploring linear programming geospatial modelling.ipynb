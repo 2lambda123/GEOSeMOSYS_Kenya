{
 "cells": [
  {
   "cell_type": "markdown",
   "metadata": {},
   "source": [
    "## GEOSeMOSYS - exploring linear programming geospatial energy modelling "
   ]
  },
  {
   "cell_type": "markdown",
   "metadata": {},
   "source": [
    "Nandi Moksnes, Mark Howells, Will Usher"
   ]
  },
  {
   "cell_type": "markdown",
   "metadata": {},
   "source": [
    "This Jupyter Notebook is dectription of how to reproduce the results in the paper:\n",
    "For any questions please contact Nandi Moksnes: nandi@kth.se"
   ]
  },
  {
   "cell_type": "markdown",
   "metadata": {},
   "source": [
    "## 1. The files in \"GIS_data\" are downloaded and placed in a \"temp\" folder."
   ]
  },
  {
   "cell_type": "code",
   "execution_count": null,
   "metadata": {},
   "outputs": [],
   "source": [
    "%load_ext autoreload\n",
    "%autoreload\n",
    "from Download_files import *\n",
    "import os\n",
    "current = os.getcwd()\n",
    "os.chdir(current)\n",
    "print(os.getcwd())\n",
    "\n",
    "download_url_data('input_data/GIS_URL.txt', 'temp')\n",
    "unzip_all('input_data/GIS_URL.txt')"
   ]
  },
  {
   "cell_type": "markdown",
   "metadata": {},
   "source": [
    "## 2. The files are then projected and clipped to the administrative boundaries. \n",
    "Approx 6 hours"
   ]
  },
  {
   "cell_type": "code",
   "execution_count": null,
   "metadata": {},
   "outputs": [],
   "source": [
    "%autoreload\n",
    "import os\n",
    "from Project_GIS import *\n",
    "current = os.getcwd()\n",
    "\n",
    "os.chdir(current)\n",
    "\n",
    "main('../GIS_data')"
   ]
  },
  {
   "cell_type": "markdown",
   "metadata": {},
   "source": [
    "## 3. Through QGIS make raster to point layer and save (MANUAL STEP)"
   ]
  },
  {
   "cell_type": "markdown",
   "metadata": {},
   "source": [
    "masked_UMT37S_ken_ppp_2018_1km_Aggregated: SAGA raster to point in QGIS\n",
    "\n",
    "This step is downloaded from zenodo so it is not needed for the user to execute.\n",
    "\n",
    "Run time: Approx 1 minute\n"
   ]
  },
  {
   "cell_type": "code",
   "execution_count": null,
   "metadata": {},
   "outputs": [],
   "source": [
    "%autoreload\n",
    "from Download_files import *\n",
    "import os\n",
    "os.chdir(r'C:\\Users\\nandi\\Box Sync\\PhD\\Paper 3-OSeMOSYS 40x40\\GIS_python_build\\GEOSeMOSYS_reprod\\GEOSeMOSYS_Kenya\\src')\n",
    "current = os.getcwd()\n",
    "os.chdir(current)\n",
    "print(os.getcwd())\n",
    "download_url_data(\"input_data/zenodo.txt\", \"../Projected_files\")"
   ]
  },
  {
   "cell_type": "markdown",
   "metadata": {},
   "source": [
    "## 4. The GIS layers are prepared to for a heuristic approximation for electrified settlements\n",
    "Approx 15 min"
   ]
  },
  {
   "cell_type": "code",
   "execution_count": null,
   "metadata": {},
   "outputs": [],
   "source": [
    "%autoreload\n",
    "import matplotlib.pyplot as plt\n",
    "from settlement_build import *\n",
    "current = os.getcwd()\n",
    "os.chdir(current)\n",
    "\n",
    "pop_shp = '../Projected_files/raster_to_point_UMT37S_Kenya.shp'\n",
    "Projected_files_path = '../Projected_files'\n",
    "\n",
    "rasterize = raster_proximity(Projected_files_path)\n",
    "points = raster_to_point(rasterize, pop_shp, Projected_files_path)"
   ]
  },
  {
   "cell_type": "markdown",
   "metadata": {},
   "source": [
    "## 5. Approximate location of urban settlements and the electrified settlements 1kmx1km resolution\n",
    "Approx 10 min. Make sure to wait so that the shapefile and csv file is saved properly."
   ]
  },
  {
   "cell_type": "code",
   "execution_count": null,
   "metadata": {
    "tags": [
     "keep-output"
    ]
   },
   "outputs": [],
   "source": [
    "%load_ext autoreload\n",
    "%autoreload\n",
    "from elec_start import *\n",
    "import os\n",
    "current = os.getcwd()\n",
    "os.chdir(current)\n",
    "\n",
    "elec_actual = 0.75  # percent\n",
    "pop_cutoff = 4000  # people\n",
    "dist_minigrid = 5000  # meters\n",
    "dist_mv = 5000 #meters\n",
    "dist_lv = 2000 #meters\n",
    "dist_to_trans = 5000  # meters\n",
    "dist_to_sub = 5000 #meters\n",
    "dist_minig = 5000 #meters\n",
    "min_night_lights = 20\n",
    "max_grid_dist = 10000  # meters\n",
    "max_road_dist = 300  # meters\n",
    "pop_cutoff2 = 36000 # people\n",
    "urban_elec_ratio = 83.5  # percent\n",
    "rural_elec_ratio = 71.5  # percent\n",
    "pop_actual = 52570000  # peolpe\n",
    "urban = 0.275  # percent\n",
    "urban_cutoff = 20000\n",
    "start_year = 2018\n",
    "settlement = gpd.read_file(\"../Projected_files/settlements.shp\")\n",
    "\n",
    "settlements = pd.DataFrame(settlement, copy=True)\n",
    "urbansettlements = calibrate_pop_and_urban(settlements, pop_actual, urban, urban_cutoff)\n",
    "elec_current_and_future(urbansettlements, elec_actual, pop_cutoff, dist_to_trans, dist_to_sub, dist_minig, min_night_lights,\n",
    "                            max_grid_dist, urban_elec_ratio, rural_elec_ratio, max_road_dist, pop_actual, pop_cutoff2, start_year, dist_mv, dist_lv)\n"
   ]
  },
  {
   "cell_type": "code",
   "execution_count": null,
   "metadata": {
    "tags": [
     "keep-output"
    ]
   },
   "outputs": [],
   "source": [
    "%autoreload\n",
    "import geopandas as gpd\n",
    "import matplotlib.pyplot as plt\n",
    "\n",
    "shp_path = (r'..\\Projected_files\\elec.shp')\n",
    "\n",
    "point = gpd.read_file(shp_path)"
   ]
  },
  {
   "cell_type": "code",
   "execution_count": null,
   "metadata": {
    "tags": [
     "keep-output"
    ]
   },
   "outputs": [],
   "source": [
    "fig, ax = plt.subplots(1, 1)\n",
    "point.plot(column='elec', ax=ax)\n",
    "fig.suptitle('Estimated electrified popluation (in yellow) Kenya', fontsize=18)"
   ]
  },
  {
   "cell_type": "markdown",
   "metadata": {},
   "source": [
    "## 6. Download Renewable.ninja data for all 378 locations\n",
    "Approx 24 h due to the max dowloads per hour"
   ]
  },
  {
   "cell_type": "code",
   "execution_count": null,
   "metadata": {},
   "outputs": [],
   "source": [
    "%autoreload\n",
    "from renewable_ninja_download import *\n",
    "\n",
    "os.chdir(r'C:\\Users\\nandi\\Box Sync\\PhD\\Paper 3-OSeMOSYS 40x40\\GIS_python_build\\GEOSeMOSYS_reprod\\GEOSeMOSYS_Kenya\\src')\n",
    "\n",
    "shapefile = '../Projected_files/new_40x40points_WGSUMT37S.shp'\n",
    "path = \"temp\"\n",
    "coordinates = project_vector(shapefile)\n",
    "wind, solar = csv_make(coordinates)\n",
    "down = download(path, wind, solar)\n"
   ]
  },
  {
   "cell_type": "markdown",
   "metadata": {},
   "source": [
    "## 7. Scale down from1x1 km to 40 x 40 km electrified and unelectrified demand cells and calculate the near distance to HV lines from the 40x40 point layer\n",
    "\n",
    "Approx. 1 h"
   ]
  },
  {
   "cell_type": "code",
   "execution_count": null,
   "metadata": {},
   "outputs": [],
   "source": [
    "%load_ext autoreload\n",
    "%autoreload\n",
    "from Demand import *\n",
    "shape = '../Projected_files/Final_Polygons_Kenya.shp'\n",
    "gdp = '../Projected_files/masked_UMT37S_GDP_PPP_Layer2015.tif'\n",
    "elec_shp = '../Projected_files/elec.shp'\n",
    "\n",
    "demand_cells = join(elec_shp, gdp, shape)\n",
    "\n",
    "pop_shp = 'new_40x40points_WGSUMT37S.shp'\n",
    "un_elec_cells = 'run/un_elec_cells.csv'\n",
    "elec = 'run/elec_cells.csv'\n",
    "Projected_files_path = '../Projected_files/'\n",
    "distribution_network = 'run/Demand/Distribution_network.xlsx'\n",
    "\n",
    "transmission_near = near_dist(pop_shp, un_elec_cells, Projected_files_path)\n"
   ]
  },
  {
   "cell_type": "markdown",
   "metadata": {},
   "source": [
    "# 8. Calculate the demand per cell based on following equations (MANUAL STEP in Excel)"
   ]
  },
  {
   "cell_type": "markdown",
   "metadata": {},
   "source": [
    "![title](input_data/eq1.png)\n",
    "![title](input_data/eq2.jpg)\n",
    "\n",
    "(In Excel)\n",
    "The reference scenario follows the reference scenario from [Updated least cost power development plan 2017-2037](http://gak.co.ke/wp-content/uploads/2019/02/Updated-Least-Cost-Power-Development-Plan-2017-2022-min.pdf) but deducts the un-electrified scenario which is multiplied with the [Tier 2](http://gak.co.ke/wp-content/uploads/2019/02/Updated-Least-Cost-Power-Development-Plan-2017-2022-min.pdf ) and [4 people per household](https://openknowledge.worldbank.org/bitstream/handle/10986/24368/Beyond0connect0d000technical0report.pdf?sequence=1&isAllowed=y). Full electrification is achived by 2030 \n",
    "\n",
    "The vision scenario follows the vision scenario from [Updated least cost power development plan 2017-2037](http://gak.co.ke/wp-content/uploads/2019/02/Updated-Least-Cost-Power-Development-Plan-2017-2022-min.pdf) but deducts the un-electrified scenario which is multiplied with the [Tier 3](http://gak.co.ke/wp-content/uploads/2019/02/Updated-Least-Cost-Power-Development-Plan-2017-2022-min.pdf ) and [4 people per household](https://openknowledge.worldbank.org/bitstream/handle/10986/24368/Beyond0connect0d000technical0report.pdf?sequence=1&isAllowed=y). Full electrification is achieved 2022. Even though there is expected increase in population growth rate the un-electrified population was kept at the 2018 level (12.8 million un-electrified) as the growing population will be part of the overall demand from the Updated least cost power development plan, and also included in an electrified or un-electrified household.\n",
    "\n"
   ]
  },
  {
   "cell_type": "markdown",
   "metadata": {},
   "source": [
    "# 9. Transmission lines\n",
    "Approx 1 min"
   ]
  },
  {
   "cell_type": "markdown",
   "metadata": {},
   "source": [
    "(In Excel) From the demand_cell.csv file identify the cells that does not have any electrified cells in the 40x40 cell and classify them as unelectrified. The cells that has one electrified cell is concidered to have an HV line or possibility to connect to an additional LV line and connect the remainder of the area.\n",
    "\n",
    "Cost concidered are [2500 USD MW-km for transmission lines and 1500 USD/MW](https://iea-etsap.org/E-TechDS/PDF/E12_el-t&d_KV_Apr2014_GSOK.pdf) for substation and  [4000 USD/MW-km](https://iea-etsap.org/E-TechDS/PDF/E12_el-t&d_KV_Apr2014_GSOK.pdf) for low voltage lines."
   ]
  },
  {
   "cell_type": "markdown",
   "metadata": {},
   "source": [
    "The cells that are electrified and not 5000 m from a minigrid the cell is concidered electrified by transmission lines.\n",
    "The results is that from 378 cells to 202 un-electrified cells (16 are concidered connected to minigrid)."
   ]
  },
  {
   "cell_type": "markdown",
   "metadata": {},
   "source": [
    "To generate the lines between the points these instructions [were followed](https://support.esri.com/en/technical-article/000011815)"
   ]
  },
  {
   "cell_type": "markdown",
   "metadata": {},
   "source": [
    "# 10. Distribution lines"
   ]
  },
  {
   "cell_type": "markdown",
   "metadata": {},
   "source": [
    "The distribution lines distance is based on three parameters:\n",
    "- Area of the unelectrified population\n",
    "- Number of households in that area (population)\n",
    "- Peak demand for households\n",
    "\n",
    "Area of unelectrified population and peak demand\n",
    "The area of the unelectrified population corresponds to the sum of 1x1km in each cell (from the estimated electrification modelling). The inhabited area is the populated unelectrified area within the 40x40 cell multiplied with a disaggregation factor which represents habitation patterns (set to 0.3 for Kenya from [Modi et al. 2005](https://lutw.org/wp-content/uploads/Energy-services-for-the-millennium-development-goals.pdf)).\n",
    "To calculate the number of LV lines the max capacity needed is set to 10 kW. Following the Multi Tier framework the Tier 2 scenario peak demand corresponds to 50 W and for Tier 3 the peak demand per household is 200 W ([Bhatia & Angelou, 2015 TABLE \n",
    "ES.1](https://openknowledge.worldbank.org/bitstream/handle/10986/24368/Beyond0connect0d000technical0report.pdf?sequence=1&isAllowed=y)).\n",
    "\n",
    "![title](input_data/eq3.png)\n",
    "![title](input_data/eq4.png)\n",
    "![title](input_data/eq5.png)\n",
    "![title](input_data/eq6.png)\n",
    "![title](input_data/eq7.png)\n",
    "![title](input_data/eq8.png)\n",
    "\n",
    "Capacity calculations are excluded as these are accounted for in the OSeMOSYS modelling. The length of the LV per cell is then multiplied with the cost per MW-km. [The cost per km is set to 4000 USD/MW-km and 15 000 USD/MW for a substation](https://iea-etsap.org/E-TechDS/PDF/E12_el-t&d_KV_Apr2014_GSOK.pdf)."
   ]
  },
  {
   "cell_type": "markdown",
   "metadata": {},
   "source": [
    "## Diesel generators\n",
    "The specific fuel consumption in a diesel generator is approximately 0.324 l/kWh when operating close to the rated power (approx. 70-89%) (Yamegueu et al., 2011). However, there are variations depending on the load it operates under ranging from 0.32 to 0.53 l/kWh depending on the rated power (Dufo-López et al., 2011). The Fuel Energy density is for Diesel 39.6 MJ/liter which leads to a fuel consumption of 12.672 MJ/kWh – 20.988 MJ/kWh. 1 kWh is 3.6 MJ meaning that 12.672/3.6 = 3.52 MJdiesel/MJel – 5.83 MJdiesel/MJel. 4 in the model. "
   ]
  },
  {
   "cell_type": "markdown",
   "metadata": {},
   "source": [
    "## 11. Build the needed csv files for building the data file to OSeMOSYS"
   ]
  },
  {
   "cell_type": "code",
   "execution_count": null,
   "metadata": {},
   "outputs": [],
   "source": [
    "%autoreload\n",
    "from Build_csv_files import * \n",
    "\n",
    "path= 'temp'\n",
    "pop_shp = 'new_40x40points_WGSUMT37S.shp'\n",
    "un_elec_cells = 'run/un_elec_cells.csv'\n",
    "elec = 'run/elec_cells.csv'\n",
    "Projected_files_path = '../Projected_files/'\n",
    "distribution_network = 'run/Demand/Distribution_network.xlsx'\n",
    "\n",
    "capital_cost_HV = 2.5 #kUSD MW-km\n",
    "substation = 1.5 #kUSD/MW\n",
    "capital_cost_LV = 4 #kUSD/MW\n",
    "\n",
    "#renewableninja(path)\n",
    "GIS_file()\n",
    "#transmission_near = \"run/Demand/transmission.shp\"\n",
    "transmission_near = near_dist(pop_shp, un_elec_cells, Projected_files_path)\n",
    "capital_cost_transmission_distrib(distribution_network, elec, un_elec_cells, transmission_near, capital_cost_HV, substation, capital_cost_LV)\n",
    "\n"
   ]
  },
  {
   "cell_type": "code",
   "execution_count": null,
   "metadata": {},
   "outputs": [],
   "source": []
  }
 ],
 "metadata": {
  "kernelspec": {
   "display_name": "Python 3",
   "language": "python",
   "name": "python3"
  },
  "language_info": {
   "codemirror_mode": {
    "name": "ipython",
    "version": 3
   },
   "file_extension": ".py",
   "mimetype": "text/x-python",
   "name": "python",
   "nbconvert_exporter": "python",
   "pygments_lexer": "ipython3",
   "version": "3.7.8"
  }
 },
 "nbformat": 4,
 "nbformat_minor": 2
}
