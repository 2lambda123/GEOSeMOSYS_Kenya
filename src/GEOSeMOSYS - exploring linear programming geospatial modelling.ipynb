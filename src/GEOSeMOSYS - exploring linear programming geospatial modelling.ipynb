{
 "cells": [
  {
   "cell_type": "markdown",
   "metadata": {},
   "source": [
    "## GEOSeMOSYS - exploring linear programming geospatial energy modelling "
   ]
  },
  {
   "cell_type": "markdown",
   "metadata": {},
   "source": [
    "Nandi Moksnes"
   ]
  },
  {
   "cell_type": "markdown",
   "metadata": {},
   "source": [
    "This Jupyter Notebook is dectription of how to reproduce the results in the paper:\n",
    "For any questions please contact Nandi Moksnes: nandi@kth.se"
   ]
  },
  {
   "cell_type": "markdown",
   "metadata": {},
   "source": [
    "## 1. The files in \"GIS_data\" are downloaded and placed in a \"temp\" folder."
   ]
  },
  {
   "cell_type": "code",
   "execution_count": 6,
   "metadata": {},
   "outputs": [],
   "source": [
    "from Download_files.py import *\n",
    "\n",
    "download_url_data(input_data/GIS_URL.txt temp)\n",
    "unzip_all(input_data/GIS_URL.txt)\n",
    "\n",
    "download_url_data('input_data/zenodo.txt', '../Projected_files')"
   ]
  },
  {
   "cell_type": "markdown",
   "metadata": {},
   "source": [
    "## 2. The files are then projected and clipped to the administrative boundaries."
   ]
  },
  {
   "cell_type": "code",
   "execution_count": 1,
   "metadata": {},
   "outputs": [],
   "source": [
    "from Project_GIS import *\n",
    "\n",
    "main('../GIS_data')"
   ]
  },
  {
   "cell_type": "markdown",
   "metadata": {},
   "source": [
    "## 3. Through QGIS make raster to point layer and save"
   ]
  },
  {
   "cell_type": "markdown",
   "metadata": {},
   "source": [
    "1) masked_UMT37S_ken_ppp_2015_UNadj: SAGA raster to point \n",
    "\n",
    "This step is downloaded from zenodo so it is not needed for the user to execute.\n"
   ]
  },
  {
   "cell_type": "markdown",
   "metadata": {},
   "source": [
    "## 4. The GIS layers are prepared to for a heuristic approximation for electrified settlements"
   ]
  },
  {
   "cell_type": "code",
   "execution_count": null,
   "metadata": {},
   "outputs": [],
   "source": [
    "from settlement_build import *\n",
    "\n",
    "points = raster_to_point(pop_shp, Projected_files_path)\n",
    "point_line = near_calculations_line(points, Projected_files_path)\n",
    "settlements = near_calculations_point(point_line, Projected_files_path)\n",
    "settlements "
   ]
  },
  {
   "cell_type": "markdown",
   "metadata": {},
   "source": [
    "## 5. Approximate location of urban settlemtns and the electrified settlements 1kmx1km resolution"
   ]
  },
  {
   "cell_type": "code",
   "execution_count": 6,
   "metadata": {},
   "outputs": [
    {
     "data": {
      "text/plain": [
       "()"
      ]
     },
     "execution_count": 6,
     "metadata": {},
     "output_type": "execute_result"
    }
   ],
   "source": [
    "from elec_start import *\n",
    "\n",
    "pop_actual = 52570000 #peolpe\n",
    "urban = 0.275 #percent\n",
    "urban_cutoff = 20000\n",
    "urbansettlements = calibrate_pop_and_urban(settlements, pop_actual, urban, urban_cutoff)\n",
    "\n",
    "elec_actual = 0.75 #percent\n",
    "pop_cutoff = 40000 #people\n",
    "dist_minigrid = 5000 #meters\n",
    "dist_to_trans = 50000 #meters\n",
    "min_night_lights = 0.01\n",
    "max_grid_dist= 200000 #meters\n",
    "max_road_dist = 300 #meters \n",
    "pop_cutoff2 = 360000 #people\n",
    "urban_elec_ratio=83.5 #percent\n",
    "rural_elec_ratio= 71.5 #percent\n",
    "\n",
    "elec_current_and_future = (urbansettlements, elec_actual, pop_cutoff, dist_to_trans, min_night_lights,\n",
    "                            max_grid_dist, urban_elec_ratio, rural_elec_ratio,  max_road_dist, pop_actual, pop_cutoff2, start_year)\n"
   ]
  },
  {
   "cell_type": "markdown",
   "metadata": {},
   "source": []
  },
  {
   "cell_type": "code",
   "execution_count": null,
   "metadata": {},
   "outputs": [],
   "source": []
  },
  {
   "cell_type": "markdown",
   "metadata": {},
   "source": []
  },
  {
   "cell_type": "code",
   "execution_count": null,
   "metadata": {},
   "outputs": [],
   "source": []
  },
  {
   "cell_type": "markdown",
   "metadata": {},
   "source": []
  },
  {
   "cell_type": "code",
   "execution_count": null,
   "metadata": {},
   "outputs": [],
   "source": []
  },
  {
   "cell_type": "markdown",
   "metadata": {},
   "source": []
  },
  {
   "cell_type": "markdown",
   "metadata": {},
   "source": []
  },
  {
   "cell_type": "markdown",
   "metadata": {},
   "source": []
  },
  {
   "cell_type": "markdown",
   "metadata": {},
   "source": [
    "\n"
   ]
  }
 ],
 "metadata": {
  "kernelspec": {
   "display_name": "Python 3",
   "language": "python",
   "name": "python3"
  },
  "language_info": {
   "codemirror_mode": {
    "name": "ipython",
    "version": 3
   },
   "file_extension": ".py",
   "mimetype": "text/x-python",
   "name": "python",
   "nbconvert_exporter": "python",
   "pygments_lexer": "ipython3",
   "version": "3.7.4"
  }
 },
 "nbformat": 4,
 "nbformat_minor": 2
}
