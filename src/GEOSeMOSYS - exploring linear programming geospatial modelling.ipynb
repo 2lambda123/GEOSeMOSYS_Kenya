{
 "cells": [
  {
   "cell_type": "markdown",
   "metadata": {},
   "source": [
    "## GEOSeMOSYS - geospatial energy systems optimization in OSeMOSYS for Kenya"
   ]
  },
  {
   "cell_type": "markdown",
   "metadata": {},
   "source": [
    "Nandi Moksnes, Mark Howells, Will Usher"
   ]
  },
  {
   "cell_type": "markdown",
   "metadata": {},
   "source": [
    "This Jupyter Notebook is both a description of how to reproduce the results in the paper and where you run the code.\n",
    "For any questions please contact Nandi Moksnes: nandi@kth.se"
   ]
  },
  {
   "cell_type": "code",
   "execution_count": null,
   "metadata": {},
   "outputs": [],
   "source": [
    "%load_ext autoreload\n",
    "\n",
    "from datetime import datetime\n",
    "import os\n",
    "import matplotlib.pyplot as plt\n",
    "import geopandas as gpd\n",
    "import pandas as pd\n",
    "import numpy as np\n",
    "import seaborn as sns"
   ]
  },
  {
   "cell_type": "code",
   "execution_count": null,
   "metadata": {},
   "outputs": [],
   "source": [
    "#Spatial resolution\n",
    "point = '../Projected_files/new_40x40points_WGSUMT37S.shp'\n",
    "polygon = '../Projected_files/Final_Polygons_Kenya.shp'"
   ]
  },
  {
   "cell_type": "markdown",
   "metadata": {},
   "source": [
    "# Initial key parameter settings\n",
    "\n",
    "In \"src/run/ref/input_data.csv\", \"src/run/vision/input_data.csv\"key parameters are set for the following settings:\n",
    "- Timeslice name\n",
    "- Hour corresponding to each time slice (not used in the current version)\n",
    "- Month\n",
    "- Daysplit\n",
    "- Specified annual demand fuel\n",
    "- Start year\n",
    "- End year\n",
    "- Timeslice day-night hour (e.g. first hour that belongs to day time slice)\n",
    "- Timeslice day-evening hour (e.g. last hour that belongs to day time slice)\n",
    "- Timeslice evening-day hour (e.g. first hour that belongs to evening time slice)\n",
    "- Timeslice evening-night hour (e.g. last hour that belongs to evening time slice)\n",
    "- Timeslice night-evening hour (e.g. first hour that belongs to night time slice)\n",
    "- Timeslice night-day hour (e.g. last hour that belongs to night time slice)\n",
    "- Region (an OSeMOSYS set)\n",
    "- Tech/renewable ninjafile equals the corresponding file to evaluate\n",
    "- Household size (HH)\n",
    "- Inhabited area (as a percentage)\n",
    "- Area cell size (e.g. resolution on the data)\n",
    "- peak(Watt) for households\n",
    "- LV_area \n",
    "- Max capacity for LV lines in W\n",
    "\n"
   ]
  },
  {
   "cell_type": "markdown",
   "metadata": {},
   "source": [
    "## 1. The files in \"input_data/GIS_data\" are downloaded and placed in a \"temp\" folder.\n",
    "Approx 25 min"
   ]
  },
  {
   "cell_type": "markdown",
   "metadata": {},
   "source": [
    "### Datasets\n",
    "[Nighttimelight data average masked, 2020](https://eogdata.mines.edu/nighttime_light/annual/v20/2020/VNL_v2_npp_2020_global_vcmslcfg_c202102150000.average_masked.tif.gz)\n",
    "[GDP_PPP_2015_WGS_84](https://zenodo.org/record/4736323/files/GDP_PPP_Layer2015.tif?download=1)\n",
    "[ADM: gadm36_KEN_shp](https://biogeo.ucdavis.edu/data/gadm3.6/shp/gadm36_KEN_shp.zip,gadm36_KEN_shp.zip)\n",
    "[Roads](https://energydata.info/dataset/b71146ac-0330-40f5-bd47-e0d20a761e48/resource/caf4f528-e982-4db8-811c-fdbf5322352f/download/roads.zip)\n",
    "[11kV transmission Kenya](https://energydata.info/dataset/43e26a70-66be-419d-8fd0-5ed53fa98fd5/resource/ce311dec-c757-42da-86b8-de58160627e0/download/transmission-lines-11kv.zip)\n",
    "[33kV transmission Kenya.zip](https://energydata.info/dataset/43e26a70-66be-419d-8fd0-5ed53fa98fd5/resource/28c470ef-a34f-4010-82e5-c743e5e395a1/download/transmission-lines-33kv.zip)\n",
    "[66kV transmission Kenya](https://energydata.info/dataset/43e26a70-66be-419d-8fd0-5ed53fa98fd5/resource/bf437ae3-866b-4229-9234-06e04c30368a/download/transmission-lines-66kv.zip)\n",
    "[132kV transmission Kenya](https://energydata.info/dataset/43e26a70-66be-419d-8fd0-5ed53fa98fd5/resource/4dfbd761-8961-49d4-a76d-e2ad6bc03ee7/download/transmission-lines-132kv.zip)\n",
    "[220kV transmission Kenya](https://energydata.info/dataset/43e26a70-66be-419d-8fd0-5ed53fa98fd5/resource/39c0185d-3c46-4d25-87d9-39e357a7aaea/download/transmission-lines-220kv.zip)\n",
    "[mini-grid-exisitng.zip](https://energydata.info/dataset/8f3c4f8f-ec01-4eda-b14b-3ae58319ac41/resource/3fe41c27-5428-4f26-9279-63d7d5c632be/download/existing-mini-grids.zip)\n",
    "[minigrid-under-development](https://energydata.info/dataset/8f3c4f8f-ec01-4eda-b14b-3ae58319ac41/resource/a347eacb-e1de-4c95-8a65-8619fc100a83/download/mini-grids-under-development.zip)\n",
    "[transformersKenya](https://energydata.info/dataset/84ca7288-1d10-469d-a98d-26643f869367/resource/69216202-4b3b-459f-9d16-1e9f15a4f6d5/download/distribution-transformer.zip)\n",
    "[transmissionstationsKenya](https://energydata.info/dataset/d163a91c-b626-46c2-9fd3-c51df551a844/resource/254cf187-7cdf-4539-8021-2280342b92a7/download/transmission-stations.zip)\n",
    "[primary-substationsKenya](https://energydata.info/dataset/6882b9c0-85e2-42a0-aa56-44128f549b42/resource/95818e94-d01a-445a-95d7-b46f2cc1d637/download/primary-substations.zip)"
   ]
  },
  {
   "cell_type": "code",
   "execution_count": null,
   "metadata": {},
   "outputs": [],
   "source": [
    "%autoreload\n",
    "date = datetime.now().strftime(\"%Y %m %d-%I:%M:%S_%p\")\n",
    "print(date)\n",
    "\n",
    "from Download_files import *\n",
    "\n",
    "\n",
    "URL_viirs = 'https://eogdata.mines.edu/nighttime_light/annual/v20/2020/VNL_v2_npp_2020_global_vcmslcfg_c202102150000.average_masked.tif.gz'\n",
    "    \n",
    "download_url_data('input_data/GIS_URL.txt', 'temp')\n",
    "download_viirs(URL_viirs, 'temp')\n",
    "unzip_all('input_data/GIS_unzip.txt','../temp', '../GIS_data')"
   ]
  },
  {
   "cell_type": "markdown",
   "metadata": {},
   "source": [
    "## 2. The files are then projected and clipped to the administrative boundaries. \n",
    "Approx 3 hours"
   ]
  },
  {
   "cell_type": "code",
   "execution_count": null,
   "metadata": {},
   "outputs": [],
   "source": [
    "%autoreload\n",
    "date = datetime. now(). strftime(\"%Y_%m_%d-%I:%M:%S_%p\")\n",
    "print(date)\n",
    "\n",
    "from Project_GIS import *\n",
    "\n",
    "\n",
    "project_main('../GIS_data', '../Projected_files')"
   ]
  },
  {
   "cell_type": "markdown",
   "metadata": {},
   "source": [
    "## 3. Through QGIS make raster to point layer and save (MANUAL STEP)"
   ]
  },
  {
   "cell_type": "markdown",
   "metadata": {},
   "source": [
    "From this layer: [Population Kenya: High Resolution Population Density Maps, for 2019](https://data.humdata.org/dataset/2964b369-c10c-4b55-94a8-495de3fc9858/resource/1271b53b-30be-4c4b-aa27-1bd104506636/download/ken_general_2020_geotiff.zip) \n",
    "1) Reproject the HRSL to CRS EPSG:32737 - WGS 84 / UTM zone 37S - Projected\n",
    "2) Reduce the resolution through GRASS \"r.resamp.stats\" with cellsize 1000 m.\n",
    "3) Remove values under 1 with Raster calculator.\n",
    "4) Then run SAGA: raster to point in QGIS\n",
    "\n",
    "This step is downloaded from zenodo so it is not needed for the user to execute.\n",
    "\n",
    "Run time: Approx 1 minute\n"
   ]
  },
  {
   "cell_type": "code",
   "execution_count": null,
   "metadata": {},
   "outputs": [],
   "source": [
    "%autoreload\n",
    "\n",
    "from datetime import datetime\n",
    "date = datetime.now().strftime(\"%Y %m %d-%I:%M:%S_%p\")\n",
    "print(date)\n",
    "\n",
    "from Download_files import *\n",
    "\n",
    "download_url_data(\"input_data/zenodo.txt\", \"Projected_files\")"
   ]
  },
  {
   "cell_type": "markdown",
   "metadata": {},
   "source": [
    "## 4. The GIS layers are prepared to for a heuristic approximation for electrified settlements\n",
    "Approx 15 min"
   ]
  },
  {
   "cell_type": "code",
   "execution_count": null,
   "metadata": {},
   "outputs": [],
   "source": [
    "%autoreload\n",
    "\n",
    "from Prepare_elec_start import *\n",
    "\n",
    "date = datetime.now().strftime(\"%Y %m %d-%I:%M:%S_%p\")\n",
    "print(date)\n",
    "\n",
    "pop_shp = '../Projected_files/raster_to_point_UMT37S_Kenya.shp'\n",
    "Projected_files_path = '../Projected_files'\n",
    "\n",
    "rasterize = raster_proximity(Projected_files_path)\n",
    "points = raster_to_point(rasterize, pop_shp, Projected_files_path)"
   ]
  },
  {
   "cell_type": "markdown",
   "metadata": {},
   "source": [
    "## 5. Approximate location of urban settlements and the electrified settlements 1kmx1km resolution\n",
    "Approx 10 min. Make sure to wait so that the shapefile and csv file is saved properly from step 4."
   ]
  },
  {
   "cell_type": "code",
   "execution_count": null,
   "metadata": {
    "tags": [
     "keep-output"
    ]
   },
   "outputs": [],
   "source": [
    "%autoreload\n",
    "from elec_start import *\n",
    "\n",
    "date = datetime.now().strftime(\"%Y %m %d-%I:%M:%S_%p\")\n",
    "print(date)\n",
    "\n",
    "elec_actual = 0.697  # percent #https://data.worldbank.org/indicator/EG.ELC.ACCS.ZS accessed 2021-10-02\n",
    "pop_cutoff = 4000  # people\n",
    "dist_mv = 1000 #meters\n",
    "dist_lv = 500 #meters\n",
    "dist_to_trans = 500  # meters\n",
    "dist_to_sub = 1000 #meters\n",
    "dist_minig = 1000 #meters\n",
    "min_night_lights = 0.5\n",
    "max_grid_dist = 5000  # meters\n",
    "max_road_dist = 500  # meters\n",
    "pop_cutoff2 = 36000 # people\n",
    "urban_elec_ratio = 0.908  # percent https://data.worldbank.org/indicator/EG.ELC.ACCS.UR.ZS accessed 2021-10-02\n",
    "rural_elec_ratio = 0.617  # percent https://data.worldbank.org/indicator/EG.ELC.ACCS.RU.ZS accessed 2021-10-02\n",
    "pop_actual = 53771300  # people https://data.worldbank.org/indicator/SP.POP.TOTL?locations=KE accessed 2021-10-02\n",
    "urban = 0.28  # percent https://data.worldbank.org/indicator/SP.URB.TOTL.IN.ZS?locations=KE accessed 2021-10-02\n",
    "urban_cutoff = 20000\n",
    "start_year = 2019\n",
    "settlement = gpd.read_file(\"../Projected_files/settlements.shp\")\n",
    "\n",
    "settlements = pd.DataFrame(settlement, copy=True)\n",
    "urbansettlements = calibrate_pop_and_urban(settlements, pop_actual, urban, urban_cutoff)\n",
    "elec_current_and_future(urbansettlements, elec_actual, pop_cutoff, dist_to_trans, dist_to_sub, dist_minig, min_night_lights,\n",
    "                            max_grid_dist, urban_elec_ratio, rural_elec_ratio, max_road_dist, pop_actual, pop_cutoff2, start_year, dist_mv, dist_lv)\n"
   ]
  },
  {
   "cell_type": "code",
   "execution_count": null,
   "metadata": {
    "tags": [
     "keep-output"
    ]
   },
   "outputs": [],
   "source": [
    "%autoreload\n",
    "date = datetime.now().strftime(\"%Y %m %d-%I:%M:%S_%p\")\n",
    "print(date)\n",
    "\n",
    "shp_path = (r'..\\Projected_files\\elec.shp')\n",
    "\n",
    "point = gpd.read_file(shp_path)\n",
    "os.chdir('../src')"
   ]
  },
  {
   "cell_type": "code",
   "execution_count": null,
   "metadata": {
    "tags": [
     "keep-output"
    ]
   },
   "outputs": [],
   "source": [
    "fig, ax = plt.subplots(1, 1)\n",
    "point.plot(column='elec', ax=ax)\n",
    "fig.suptitle('Estimated electrified popluation (in yellow) Kenya', fontsize=18)"
   ]
  },
  {
   "cell_type": "markdown",
   "metadata": {},
   "source": [
    "## 6. Download Renewable.ninja data for all 378 cells\n",
    "To run this code you need to have installed R on your computer and the package \"curl\". In addition you need to have a log in on renewables.ninja and get your API token to dowload a higher share of locations per day\n",
    "\n",
    "Approx 24 h due to the max dowloads per hour"
   ]
  },
  {
   "cell_type": "code",
   "execution_count": null,
   "metadata": {},
   "outputs": [],
   "source": [
    "%autoreload\n",
    "date = datetime.now().strftime(\"%Y %m %d-%I:%M:%S_%p\")\n",
    "print(date)\n",
    "\n",
    "from renewable_ninja_download import *\n",
    "\n",
    "#To be able to download you need to install the package curl from R and also have R installed on your computer\n",
    "# Easiest is to write  install.packages(\"curl\") in the R prompt\n",
    "\n",
    "# add your token for API from your own log in on Renewable Ninjas\n",
    "token = ' '\n",
    "time_zone_offset = 3  # Kenya is UTC + 3hours to adjust for the time zone\n",
    "shapefile = '../Projected_files/new_40x40points_WGSUMT37S.shp'\n",
    "#Add the path to the RScript.exe under Program Files and add here\n",
    "Rpath =  ' '\n",
    "srcpath = os.getcwd()\n",
    "print(srcpath)\n",
    "path = \"temp\"\n",
    "coordinates = project_vector(shapefile)\n",
    "wind, solar = csv_make(coordinates)\n",
    "down = download(path, Rpath, srcpath, wind, solar, token)\n",
    "adjust_timezone(path, time_zone_offset)\n"
   ]
  },
  {
   "cell_type": "markdown",
   "metadata": {},
   "source": [
    "## 7. Scale down from1x1 km to 40 x 40 km electrified and unelectrified demand cells and save to un_elec/elec.csv and demand_cells.csv\n",
    "\n",
    "From the demand_cell.csv file identify the cells that does not have any electrified cells in the 40x40 cell and classify them as unelectrified. \n",
    "\n",
    "Approx. 5 min"
   ]
  },
  {
   "cell_type": "code",
   "execution_count": null,
   "metadata": {},
   "outputs": [],
   "source": [
    "%autoreload\n",
    "date = datetime.now().strftime(\"%Y %m %d-%I:%M:%S_%p\")\n",
    "print(date)\n",
    "\n",
    "from post_elec_GIS_functions import *\n",
    "shape = '../Projected_files/Final_Polygons_Kenya.shp'\n",
    "gdp = '../Projected_files/masked_UMT37S_GDP_PPP_2015_WGS_84.tif'\n",
    "elec_shp = '../Projected_files/elec.shp'\n",
    "demandcells = os.path.join(os.getcwd(), 'run/Demand/demand_cells.csv')\n",
    "\n",
    "join(elec_shp, gdp, shape)\n",
    "elec(demandcells)\n"
   ]
  },
  {
   "cell_type": "markdown",
   "metadata": {},
   "source": [
    "## 8. Calculate the demand per cell based on below equations\n",
    "\n",
    "The demand is instered to the demand.csv file in the input_data directory\n"
   ]
  },
  {
   "cell_type": "code",
   "execution_count": null,
   "metadata": {},
   "outputs": [],
   "source": [
    "%autoreload\n",
    "date = datetime.now().strftime(\"%Y %m %d-%I:%M:%S_%p\")\n",
    "print(date)\n",
    "\n",
    "from post_elec_GIS_functions import calculate_demand\n",
    "\n",
    "settlements = 'run/Demand/demand_cells.csv'\n",
    "demand = 'input_data/demand.csv'\n",
    "calculate_demand(settlements, demand)\n"
   ]
  },
  {
   "attachments": {
    "eq1.PNG": {
     "image/png": "[encoded data removed]"
    }
   },
   "cell_type": "markdown",
   "metadata": {},
   "source": [
    "![eq1.PNG](attachment:eq1.PNG)\n",
    "\n",
    "\n",
    "The reference scenario follows the reference scenario from [Updated least cost power development plan 2020-2040 (LCPDP 2020-2040)](https://www.decoalonize.org/wp-content/uploads/2021/03/LCPDP-2020-2040.pdf) but deducts the un-electrified scenario which is multiplied with the [estimated demand from LCPDP 2020-2040 at 78 kWh/connection and annual growth of 4%](https://www.decoalonize.org/wp-content/uploads/2021/03/LCPDP-2020-2040.pdf) and [4 people per household](https://www.decoalonize.org/wp-content/uploads/2021/03/LCPDP-2020-2040.pdf). Full electrification is achived by 2030 following the SDG7 agenda 2030.\n",
    "\n",
    "The vision scenario follows the vision scenario from [LCPDP 2020-2040](http://gak.co.ke/wp-content/uploads/2019/02/Updated-Least-Cost-Power-Development-Plan-2017-2022-min.pdf) but deducts the un-electrified scenario which is multiplied with the rural demand at 1000 kWh/connection and annual growth of 6% and [4 people per household](https://www.decoalonize.org/wp-content/uploads/2021/03/LCPDP-2020-2040.pdf). Full electrification is achieved 2030 according to the plans in [LCPDP 2020-2040](https://www.decoalonize.org/wp-content/uploads/2021/03/LCPDP-2020-2040.pdf). Even though there is expected increase in population growth rate the un-electrified population was kept at the 2018 level (12.8 million un-electrified) as the growing population will be part of the overall demand from the Updated least cost power development plan, and also included in an electrified or un-electrified household.\n",
    "\n",
    "The demand after fully electrified (2030) is also assumed to increase with an annual growth rate of 4% and 6% respectively for all unelectrified households [LCPDP 2020-2040](https://www.decoalonize.org/wp-content/uploads/2021/03/LCPDP-2020-2040.pdf).\n",
    "\n"
   ]
  },
  {
   "cell_type": "markdown",
   "metadata": {},
   "source": [
    "# 9. Distribution lines - Pathfinder\n",
    "\n",
    "\n",
    "\n",
    "## 9.1 Identify the 40x40 km cells that has no HV line"
   ]
  },
  {
   "cell_type": "code",
   "execution_count": null,
   "metadata": {},
   "outputs": [],
   "source": [
    "%autoreload\n",
    "date = datetime.now().strftime(\"%Y %m %d-%I:%M:%S_%p\")\n",
    "print(date)\n",
    "\n",
    "#Identify unelectrified polygons\n",
    "\n",
    "from Build_csv_files import *\n",
    "polygons_all = '../Projected_files/Final_Polygons_Kenya.shp'\n",
    "noHV = 'run/noHV_cells.csv'\n",
    "shape =  \"run/Demand/un_elec_polygons.shp\"\n",
    "\n",
    "noHV_polygons(polygons_all, noHV, shape)\n"
   ]
  },
  {
   "cell_type": "markdown",
   "metadata": {},
   "source": [
    "## Manual step in ArcMap\n",
    "- Split by attribute \"Projected_files/Final_polygons_Kenya.shp\" in attribute pointid to src/temp folder\n",
    "\n",
    "This is dowloaded from Zenodo and not needed to execute."
   ]
  },
  {
   "cell_type": "code",
   "execution_count": null,
   "metadata": {},
   "outputs": [],
   "source": [
    "%autoreload\n",
    "date = datetime.now().strftime(\"%Y %m %d-%I:%M:%S_%p\")\n",
    "print(date)\n",
    "\n",
    "from Download_files import *\n",
    "import os\n",
    "#Make sure you are in the /src directory when you start this script\n",
    "print(os.getcwd())\n",
    "\n",
    "download_url_data(\"input_data/dijkstra.txt\",\"src/temp\")\n",
    "unzip_all('input_data/dijkstra.txt', 'temp','temp')"
   ]
  },
  {
   "cell_type": "markdown",
   "metadata": {},
   "source": [
    "## 9.2 Run Pathfinder for all of Kenya\n",
    "\n",
    "Approx 15 min\n",
    "\n",
    "- Build target.csv and weights.csv from unelectrified population per 1x1 km cell with a population over x and roadnetwork to weight 0.5 and where there is grid weight 0.01.\n",
    "- Define the origin (center of the cell) and run the many-to-many Dijkstra [Pathfinder algorithm](https://github.com/facebookresearch/many-to-many-dijkstra) (Rohrer, 2019)\n",
    "- The path where there is an overlap with grid is removed and the remainder is concidered the new distribution lines.\n",
    "- The lenght of the path is summed to km and the length of the LV per cell is then multiplied with the cost per MW-km. [The cost per km is set to 4500 USD/MW-km and 15 000 USD/MW for a substation](https://iea-etsap.org/E-TechDS/PDF/E12_el-t&d_KV_Apr2014_GSOK.pdf)."
   ]
  },
  {
   "cell_type": "code",
   "execution_count": null,
   "metadata": {},
   "outputs": [],
   "source": [
    "%autoreload\n",
    "date = datetime.now().strftime(\"%Y %m %d-%I:%M:%S_%p\")\n",
    "print(date)\n",
    "\n",
    "from Pathfinder_processing_steps import *\n",
    "path = '../Projected_files/'\n",
    "proj_path = 'temp/temp'\n",
    "elec_shp = '../Projected_files/elec.shp'\n",
    "tofolder = 'run/ref'\n",
    "\n",
    "\n",
    "pathfinder_main(path,proj_path, elec_shp, tofolder)"
   ]
  },
  {
   "cell_type": "markdown",
   "metadata": {},
   "source": [
    "## 9.3 Near table for all unelectrified cells (MANUAL STEP)\n",
    "\n",
    "* In ArcMap Near ............within the distance 50 000 m.\n",
    "* It is a simplification as it does not calculate the exact distance from the grid ut instead from the central point of the electrified cell."
   ]
  },
  {
   "attachments": {
    "image-3.png": {
     "image/png": "[encoded data removed]"
    }
   },
   "cell_type": "markdown",
   "metadata": {},
   "source": [
    "## 9.4 Build csv-files for distribution and transmission\n",
    "- Peakdemand\n",
    "- Maxkmpercell\n",
    "- Transmission technologies input/output which is then built in Build csv file\n",
    "- Capitalcostpercapacitykm\n",
    "\n",
    "### Flow chart over the transmissionline matrix\n",
    "![image-3.png](attachment:image-3.png)"
   ]
  },
  {
   "cell_type": "code",
   "execution_count": null,
   "metadata": {},
   "outputs": [],
   "source": [
    "%autoreload\n",
    "date = datetime.now().strftime(\"%Y %m %d-%I:%M:%S_%p\")\n",
    "print(date)\n",
    "\n",
    "from Distribution import *\n",
    "from post_elec_GIS_functions import network_length\n",
    "\n",
    "refpath = 'run/ref'\n",
    "drypath = 'run/dryvision'\n",
    "visionpath = 'run/vision'\n",
    "\n",
    "demandcells = os.path.join(os.getcwd(), 'run/Demand/demand_cells.csv')\n",
    "input_data =  os.path.join(os.getcwd(), 'run/ref/input_data.csv')\n",
    "distribution_length_cell_ref = network_length(demandcells, input_data, refpath)\n",
    "distribution_length_cell_vision = network_length(demandcells, input_data, visionpath)\n",
    "distribution_length_cell_dryvision = network_length(demandcells, input_data, drypath)\n",
    "\n",
    "distribution_length_cell_ref = 'run/ref/distribution.csv'\n",
    "distribution_length_cell_dryvision = 'run/dryvision/distribution.csv'\n",
    "distribution_length_cell_vision = 'run/vision/distribution.csv'\n",
    "distribution = 'run/ref/distributionlines.csv'\n",
    "\n",
    "topath = 'run/Demand'\n",
    "noHV = 'run/noHV_cells.csv'\n",
    "HV = 'run/HV_cells.csv'\n",
    "minigrid = 'run/elec_noHV_cells.csv'\n",
    "neartable = 'run/Demand/Near_table.csv'\n",
    "\n",
    "demand = 'run/ref/ref_demand.csv'\n",
    "specifieddemand= 'run/ref/demandprofile_rural.csv'\n",
    "visiondemand = 'run/vision/vision_demand.csv'\n",
    "visionspecifieddemand= 'run/vision/demandprofile_rural.csv'\n",
    "\n",
    "capacitytoactivity = 31.536\n",
    "yearsplit = 'run/Demand/yearsplit.csv'\n",
    "reffolder = 'run/ref'\n",
    "visionfolder = 'run/vision'\n",
    "dryvisionfolder = 'run/dryvision'\n",
    "distr_losses = 0.83\n",
    "\n",
    "peakdemand_csv(demand, specifieddemand,capacitytoactivity, yearsplit, distr_losses, distribution, distribution_length_cell_ref, reffolder)\n",
    "transmission_matrix(neartable, noHV, HV, minigrid, topath)\n",
    "\n",
    "peakdemand_csv(visiondemand, visionspecifieddemand,capacitytoactivity, yearsplit, distr_losses, distribution, distribution_length_cell_vision, visionfolder)\n",
    "peakdemand_csv(visiondemand, visionspecifieddemand,capacitytoactivity, yearsplit, distr_losses, distribution, distribution_length_cell_dryvision, dryvisionfolder)\n"
   ]
  },
  {
   "cell_type": "markdown",
   "metadata": {},
   "source": [
    "## 10. Build the following csv files for building the data file to OSeMOSYS\n",
    "- GIS_data.csv\n",
    "- capacityfactor_solar.csv\n",
    "- capacityfactor_wind.csv\n",
    "- capitalcost.csv\n",
    "- inputactivity.csv\n",
    "- outputactivity.csv\n",
    "- capacitytoactivity.csv\n",
    "\n",
    "It also generates a technology and fuel file that is convenient to paste into the base OSeMOSYS txt file for the SETs TECHNOLOGY and FUEL.\n",
    "\n",
    "## 10.1 Transmission lines distance and presence of minigrid\n",
    "The cells that has at least one electrified cell and are not situated 5000 m from a minigrid are concidered electrified by transmission lines.\n",
    "\n",
    "Cost concidered are [2500 USD MW-km for transmission lines and 1500 USD/MW](https://iea-etsap.org/E-TechDS/PDF/E12_el-t&d_KV_Apr2014_GSOK.pdf) for substation and  [10000 USD/km](https://www.mdpi.com/1996-1073/12/7/1395) for low voltage lines.\n",
    "\n",
    "The fixed cost of HV transmission lines are set to 2.5% of the capital cost [Updated-Least-Cost-Power-Development-Plan-2017-2022](http://gak.co.ke/wp-content/uploads/2019/02/Updated-Least-Cost-Power-Development-Plan-2017-2022-min.pdf)\n",
    "\n"
   ]
  },
  {
   "cell_type": "code",
   "execution_count": null,
   "metadata": {},
   "outputs": [],
   "source": [
    "%autoreload\n",
    "\n",
    "date = datetime.now().strftime(\"%Y %m %d-%I:%M:%S_%p\")\n",
    "print(date)\n",
    "print(os.getcwd())\n",
    "\n",
    "from Build_csv_files import * \n",
    "\n",
    "elec_noHV_cells = 'run/elec_noHV_cells.csv'\n",
    "renewable_path = 'temp'\n",
    "pop_shp = 'new_40x40points_WGSUMT37S.shp'\n",
    "unelec = 'run/un_elec.csv'\n",
    "noHV = 'run/noHV_cells.csv'\n",
    "HV = 'run/HV_cells.csv'\n",
    "elec = 'run/elec.csv'\n",
    "Projected_files_path = '../Projected_files/'\n",
    "\n",
    "refpath = 'run/ref'\n",
    "drypath = 'run/dryvision'\n",
    "visionpath = 'run/vision'\n",
    "\n",
    "substation = 2.4\n",
    "capital_cost_HV = 3.3 #kUSD MW-km\n",
    "capacitytoactivity = 31.536 #coversion kW to GJ\n",
    "\n",
    "#Solar and wind csv files\n",
    "renewableninja(renewable_path, refpath)\n",
    "renewableninja(renewable_path, visionpath)\n",
    "renewableninja(renewable_path, drypath)\n",
    "#Location file\n",
    "gisfile_ref = GIS_file(refpath, point)\n",
    "gisfile_vision = GIS_file(visionpath, point)\n",
    "gisfile_dryvision = GIS_file(drypath, point)\n",
    "matrix = 'run -reduced TS/Demand/adjacencymatrix.csv'\n",
    "\n",
    "capital_cost_transmission_distrib(elec, noHV, HV, elec_noHV_cells, unelec, capital_cost_HV, substation, capacitytoactivity, refpath, matrix, gisfile_ref, diesel = True)\n",
    "capital_cost_transmission_distrib(elec, noHV, HV, elec_noHV_cells, unelec, capital_cost_HV, substation, capacitytoactivity, visionpath, matrix, gisfile_vision, diesel = True)\n",
    "capital_cost_transmission_distrib(elec, noHV, HV,elec_noHV_cells, unelec, capital_cost_HV, substation, capacitytoactivity, drypath, matrix, gisfile_dryvision, diesel = False)"
   ]
  },
  {
   "cell_type": "markdown",
   "metadata": {},
   "source": [
    "# 12. Update the final files that are not updated by the script (MANUAL step)\n",
    "\n",
    "These files are automatically dowloaded for the required runs.\n",
    "\n",
    "- Demandprofile.csv (KPLC, 2015 halfhourly profile)\n",
    "- demandprofile_rural.csv [Williams et al., 2018](https://ieeexplore.ieee.org/document/8521099/)\n",
    "- emissions.csv\n",
    "- capitalcost_RET_ref.csv [NREL - moderate](https://atb.nrel.gov/)\n",
    "- capitalcost_RET_vision.csv [NREL -  advanced](https://atb.nrel.gov/)\n",
    "- Merge fixedcost_tnd to fixed_cost [NREL - moderate/advanced](https://atb.nrel.gov/)\n",
    "- variable_cost.csv\n",
    "- Operational_life.csv [NREL - moderate/advanced](https://atb.nrel.gov/)\n",
    "- battery [NREL - moderate/advanced](https://atb.nrel.gov/)"
   ]
  },
  {
   "cell_type": "markdown",
   "metadata": {},
   "source": [
    "# 14. Run the [GEOSeMOSYS code](https://github.com/KTH-dESA/GEOSeMOSYS) by Moksnes et al. (2020) through the command line\n",
    "To fit the Kenya analysis the code is modified with the following additions:\n",
    "- Electrified cells are treated separatley therefore an extra row is added to the functions where Solar PV, LV lines, or final electricity is calculated. They are treated as a separate cell with the extension of \"_0\" and \"_1\" for un-electrified and electrified"
   ]
  },
  {
   "cell_type": "markdown",
   "metadata": {},
   "source": [
    "# 14 a) Reference scenario\n",
    "Approx 3 h"
   ]
  },
  {
   "cell_type": "code",
   "execution_count": null,
   "metadata": {},
   "outputs": [],
   "source": [
    "%autoreload\n",
    "date = datetime.now().strftime(\"%Y %m %d-%I:%M:%S_%p\")\n",
    "print(date)\n",
    "\n",
    "\n",
    "!python \"run/run_datafile_ref.py\" \"run/ref/update\" \"run/REF_TS.txt\" \"run/output/REF_TS_d.txt\""
   ]
  },
  {
   "cell_type": "markdown",
   "metadata": {},
   "source": [
    "# 14 b) Vision 2030 scenario\n",
    "Approx 3h"
   ]
  },
  {
   "cell_type": "code",
   "execution_count": null,
   "metadata": {},
   "outputs": [],
   "source": [
    "%autoreload\n",
    "date = datetime.now().strftime(\"%Y %m %d-%I:%M:%S_%p\")\n",
    "print(date)\n",
    "\n",
    "!python \"run/run_datafile_vision.py\" \"run/vision/update\" \"run/Vision_TS.txt\" \"run/output/Vision_TS_d.txt\""
   ]
  },
  {
   "cell_type": "markdown",
   "metadata": {},
   "source": [
    "# 14 c) Vision 2030 scenario dry hydro (can be rewritten to just replace the capacityfactors from Vision scenario)\n",
    "Approx 3h"
   ]
  },
  {
   "cell_type": "code",
   "execution_count": null,
   "metadata": {},
   "outputs": [],
   "source": [
    "%autoreload\n",
    "date = datetime.now().strftime(\"%Y %m %d-%I:%M:%S_%p\")\n",
    "print(date)\n",
    "\n",
    "!python  \"run/run_datafile_vision.py\" \"run/dryvision/update\" \"run/DryVision_TS.txt\" \"run/output/DryVision_TS_d.txt\""
   ]
  },
  {
   "cell_type": "markdown",
   "metadata": {},
   "source": [
    "# 15) Run the data file with GNU Math Prog and a solver (here CPLEX is used)"
   ]
  },
  {
   "cell_type": "code",
   "execution_count": null,
   "metadata": {},
   "outputs": [],
   "source": [
    "!glpsol -d run/output/REF.txt -m run/output/OSeMOSYS_fast_distribution_km.txt --wlp REF.lp --check\n",
    "!glpsol -d run/output/Vision.txt -m run/output/OSeMOSYS_fast_distribution_km.txt --wlp Vision.lp --check\n",
    "!glpsol -d run/output/DryVision.txt -m run/output/OSeMOSYS_fast_distribution_km.txt --wlp DryVision.lp --check"
   ]
  },
  {
   "cell_type": "markdown",
   "metadata": {},
   "source": [
    "### These are the commands for CPLEX you write them line by line\n",
    "cplex \n",
    "\n",
    "read\n",
    "\n",
    "REF.lp | Vision.lp | DryVision.lp\n",
    "\n",
    "optimize\n",
    "\n",
    "write\n",
    "\n",
    "REF.sol | Vision.sol | DryVision.sol"
   ]
  },
  {
   "cell_type": "markdown",
   "metadata": {},
   "source": [
    "### Extract the dual values from CPLEX sol file"
   ]
  },
  {
   "cell_type": "code",
   "execution_count": null,
   "metadata": {},
   "outputs": [],
   "source": [
    "!python run/output/OSeMOSYS_CPLEX_dual_values.py run/output/REF.sol results/Kenya_REF_dual.txt\n",
    "!python run/output/OSeMOSYS_CPLEX_dual_values.py run/output/Vision.sol results/Kenya_Vision_dual.txt\n",
    "!python run/output/OSeMOSYS_CPLEX_dual_values.py run/output/DryVision.sol results/Kenya_Dry_Vision_dual.txt"
   ]
  },
  {
   "cell_type": "markdown",
   "metadata": {},
   "source": [
    "### Extract the results from the .sol file"
   ]
  },
  {
   "cell_type": "code",
   "execution_count": null,
   "metadata": {},
   "outputs": [],
   "source": [
    "!python run/output/transform_31072013.py run/output/REF.sol results/Kenya_REF_results.txt\n",
    "!python run/output/transform_31072013.py run/output/Vision.sol results/Kenya_Vision_results.txt\n",
    "!python run/output/transform_31072013.py run/output/DryVision.sol results/Kenya_Dry_Vision_results.txt"
   ]
  },
  {
   "cell_type": "markdown",
   "metadata": {},
   "source": [
    "## 17) Results extraction\n",
    "### Extract to csv from results file"
   ]
  },
  {
   "cell_type": "code",
   "execution_count": null,
   "metadata": {},
   "outputs": [],
   "source": [
    "%autoreload\n",
    "date = datetime.now().strftime(\"%Y %m %d-%I:%M:%S_%p\")\n",
    "\n",
    "from Results_extraction import read_data\n",
    "\n",
    "ref = read_data('run/results_ref/REF_solved_ts.txt')\n",
    "vision = read_data('run/results_ref/Vision_solved_ts.txt')\n",
    "dry_vision = read_data('run/results_ref/Dryvision_solved_ts.txt')\n",
    "\n",
    "prod_ref.head(10)"
   ]
  },
  {
   "cell_type": "markdown",
   "metadata": {},
   "source": [
    "### Box plot of the marginal cost for each cell"
   ]
  },
  {
   "cell_type": "code",
   "execution_count": null,
   "metadata": {},
   "outputs": [],
   "source": [
    "import seaborn as sns\n",
    "\n",
    "sns.set_theme(style=\"whitegrid\")\n",
    "tips = sns.load_dataset(\"tips\")\n",
    "ax = sns.boxplot(x=tips[\"total_bill\"])\n",
    "\n",
    "ax = sns.boxplot(x=\"day\", y=\"total_bill\", data=tips)\n",
    "\n"
   ]
  },
  {
   "cell_type": "code",
   "execution_count": null,
   "metadata": {},
   "outputs": [],
   "source": []
  }
 ],
 "metadata": {
  "kernelspec": {
   "display_name": "Python 3",
   "language": "python",
   "name": "python3"
  },
  "language_info": {
   "codemirror_mode": {
    "name": "ipython",
    "version": 3
   },
   "file_extension": ".py",
   "mimetype": "text/x-python",
   "name": "python",
   "nbconvert_exporter": "python",
   "pygments_lexer": "ipython3",
   "version": "3.7.8"
  }
 },
 "nbformat": 4,
 "nbformat_minor": 2
}
